{
  "cells": [
    {
      "cell_type": "code",
      "execution_count": 80,
      "metadata": {
        "id": "3idgGm5FeJN0"
      },
      "outputs": [],
      "source": [
        "import requests\n",
        "from google.colab import userdata\n",
        "from IPython.display import Image, display, HTML"
      ]
    },
    {
      "cell_type": "code",
      "execution_count": 3,
      "metadata": {
        "id": "djKNpnH1eWPA"
      },
      "outputs": [],
      "source": [
        "PLANTNET_API_KEY = userdata.get('PLANTNET_API_KEY') # https://my.plantnet.org/\n",
        "BASE_URL = 'https://my-api.plantnet.org'"
      ]
    },
    {
      "cell_type": "code",
      "execution_count": 91,
      "metadata": {
        "colab": {
          "base_uri": "https://localhost:8080/",
          "height": 241
        },
        "id": "jwnQCkCpec7H",
        "outputId": "de0cff39-3872-4182-aa07-77301ac7345d"
      },
      "outputs": [
        {
          "name": "stdout",
          "output_type": "stream",
          "text": [
            "Score: 83.1%\n",
            "Nome(s) popular(es): Comigo-ninguém-pode, Jibóia, Planta usada para banhos de descarrego,\n",
            "Nome Científico: Dieffenbachia seguine (Jacq.) Schott\n",
            "Imagens:\n"
          ]
        },
        {
          "data": {
            "text/html": [
              "<img src='https://bs.plantnet.org/image/s/e9b97cfb386ae0e04fd744bfd9d294646d960177' style='margin-right: 10px;'><img src='https://bs.plantnet.org/image/s/8a2c80520900c49bfcf367765e461d762ad0dd91' style='margin-right: 10px;'><img src='https://bs.plantnet.org/image/s/20c250b48d4875cad4745c20268390aba4d8afad' style='margin-right: 10px;'><img src='https://bs.plantnet.org/image/s/4abe7ef6eb03d7362c844a88f589a50ebb737a28' style='margin-right: 10px;'><img src='https://bs.plantnet.org/image/s/9641f5256005d4404e31e76aa1689feb5f50c90c' style='margin-right: 10px;'>"
            ],
            "text/plain": [
              "<IPython.core.display.HTML object>"
            ]
          },
          "metadata": {},
          "output_type": "display_data"
        }
      ],
      "source": [
        "IMAGE_PATH = '/content/test_folha.jpg'\n",
        "\n",
        "files= [\n",
        "  ('images', ('img.jpg', open(IMAGE_PATH,'rb'), 'image/jpeg'))\n",
        "]\n",
        "\n",
        "req = requests.post(f'{BASE_URL}/v2/identify/all', params={ 'api-key': PLANTNET_API_KEY, 'lang': 'pt-br', 'include-related-images': 'true' }, files=files).json()\n",
        "\n",
        "score = req['results'][0]['score'] * 100\n",
        "\n",
        "if (score > 70) :\n",
        "  name = req['results'][0]['species']['commonNames']\n",
        "  sci_name = req['results'][0]['species']['scientificName']\n",
        "  images = []\n",
        "\n",
        "  print(f\"\"\"Score:{score: .1f}%\n",
        "Nome(s) popular(es): {', '.join(name)},\n",
        "Nome Científico: {sci_name}\n",
        "Imagens:\"\"\")\n",
        "\n",
        "  for image in req['results'][0]['images']:\n",
        "      images.append(f\"<img src='{image['url']['s']}' style='margin-right: 10px;'>\")\n",
        "\n",
        "  display(HTML(''.join(images)))\n",
        "\n",
        "else:\n",
        "  print('Desculpe, não consegui identificar essa espécie.')"
      ]
    }
  ],
  "metadata": {
    "colab": {
      "provenance": []
    },
    "kernelspec": {
      "display_name": "Python 3",
      "name": "python3"
    },
    "language_info": {
      "name": "python",
      "version": "3.11.9"
    }
  },
  "nbformat": 4,
  "nbformat_minor": 0
}
